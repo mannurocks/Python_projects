{
  "nbformat": 4,
  "nbformat_minor": 0,
  "metadata": {
    "colab": {
      "provenance": [],
      "authorship_tag": "ABX9TyMvROOjLqp/IozL5M9dyYbO",
      "include_colab_link": true
    },
    "kernelspec": {
      "name": "python3",
      "display_name": "Python 3"
    },
    "language_info": {
      "name": "python"
    }
  },
  "cells": [
    {
      "cell_type": "markdown",
      "metadata": {
        "id": "view-in-github",
        "colab_type": "text"
      },
      "source": [
        "<a href=\"https://colab.research.google.com/github/mannurocks/Python_projects/blob/main/Guess__the_number.ipynb\" target=\"_parent\"><img src=\"https://colab.research.google.com/assets/colab-badge.svg\" alt=\"Open In Colab\"/></a>"
      ]
    },
    {
      "cell_type": "code",
      "execution_count": 2,
      "metadata": {
        "id": "9_cpz3bdZS9j"
      },
      "outputs": [],
      "source": [
        "# Guess the number game\n",
        "# used try and except method\n",
        "\n",
        "import random\n",
        "\n",
        "gen_no = random.randint(1,50)   # keep this randint out of loop otherwise it will not work\n",
        "\n",
        "while True:\n",
        "  try:\n",
        "    guess_no = int(input(\"Guess a number between 1 and 50: \"))\n",
        "\n",
        "    if guess_no > gen_no:\n",
        "      print(\"too high\")\n",
        "\n",
        "    elif guess_no < gen_no:\n",
        "      print(\"too low\")\n",
        "\n",
        "    elif guess_no == gen_no:\n",
        "      print(\"Congatulation!\")\n",
        "      break\n",
        "\n",
        "  except ValueError:\n",
        "        print(\"❌ Invalid input. Please enter an integer.\")\n"
      ]
    },
    {
      "cell_type": "code",
      "source": [],
      "metadata": {
        "id": "EV9q6w3NZicM"
      },
      "execution_count": null,
      "outputs": []
    }
  ]
}