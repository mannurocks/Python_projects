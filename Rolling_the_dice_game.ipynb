{
  "nbformat": 4,
  "nbformat_minor": 0,
  "metadata": {
    "colab": {
      "provenance": [],
      "authorship_tag": "ABX9TyMH/FojaQdJQwoUmjWvrFyt",
      "include_colab_link": true
    },
    "kernelspec": {
      "name": "python3",
      "display_name": "Python 3"
    },
    "language_info": {
      "name": "python"
    }
  },
  "cells": [
    {
      "cell_type": "markdown",
      "metadata": {
        "id": "view-in-github",
        "colab_type": "text"
      },
      "source": [
        "<a href=\"https://colab.research.google.com/github/mannurocks/Python_projects/blob/main/Rolling_the_dice_game.ipynb\" target=\"_parent\"><img src=\"https://colab.research.google.com/assets/colab-badge.svg\" alt=\"Open In Colab\"/></a>"
      ]
    },
    {
      "cell_type": "code",
      "execution_count": null,
      "metadata": {
        "id": "w2xloTKoX27b"
      },
      "outputs": [],
      "source": [
        "import random\n",
        "\n",
        "while True:\n",
        "  choice = input(\"roll the dice(y/n): \")  # or \"input(\"Roll the dice? (Y/N): \").lower()\"\n",
        "\n",
        "  if choice.lower() == \"y\":           # lower function turn each input into lower case\n",
        "    die = random.randint(1,6), random.randint(1,6)\n",
        "    print(tuple(die))\n",
        "\n",
        "  elif choice.lower() == \"n\":\n",
        "    print(\"Thanks for playing\")\n",
        "    break                        # to break the loop\n",
        "\n",
        "  else:\n",
        "    print(\"Invalid choice!\")"
      ]
    }
  ]
}